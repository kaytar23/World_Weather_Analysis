{
 "metadata": {
  "language_info": {
   "codemirror_mode": {
    "name": "ipython",
    "version": 3
   },
   "file_extension": ".py",
   "mimetype": "text/x-python",
   "name": "python",
   "nbconvert_exporter": "python",
   "pygments_lexer": "ipython3",
   "version": "3.8.8"
  },
  "orig_nbformat": 2,
  "kernelspec": {
   "name": "python388jvsc74a57bd0bb7f1166f2d43a72f585e46dccf453a1e5bb567f7bad184a1f876cd41e2e6fe2",
   "display_name": "Python 3.8.8 64-bit ('base': conda)"
  }
 },
 "nbformat": 4,
 "nbformat_minor": 2,
 "cells": [
  {
   "cell_type": "code",
   "execution_count": 1,
   "metadata": {},
   "outputs": [],
   "source": [
    "# Import the dependencies.\n",
    "import pandas as pd\n",
    "import gmaps\n",
    "import requests\n",
    "# Import the API key.\n",
    "from config import g_key"
   ]
  },
  {
   "cell_type": "code",
   "execution_count": 2,
   "metadata": {},
   "outputs": [
    {
     "output_type": "execute_result",
     "data": {
      "text/plain": [
       "   City_ID            City Country                 Date      Lat       Lng  \\\n",
       "0        0          Albany      US  2021-06-06 16:46:21  42.6001  -73.9662   \n",
       "1        1     Yellowknife      CA  2021-06-06 16:50:41  62.4560 -114.3525   \n",
       "2        2  Ribeira Grande      PT  2021-06-06 16:50:41  38.5167  -28.7000   \n",
       "3        3      Nikolskoye      RU  2021-06-06 16:50:41  59.7035   30.7861   \n",
       "4        4           Bluff      NZ  2021-06-06 16:50:09 -46.6000  168.3333   \n",
       "\n",
       "   Max Temp  Humidity  Cloudiness  Wind Speed  \n",
       "0     90.09        45          58        1.01  \n",
       "1     46.33        65          75        5.99  \n",
       "2     70.20        83          40       12.66  \n",
       "3     71.49        56          12        5.44  \n",
       "4     46.18        84          57        6.87  "
      ],
      "text/html": "<div>\n<style scoped>\n    .dataframe tbody tr th:only-of-type {\n        vertical-align: middle;\n    }\n\n    .dataframe tbody tr th {\n        vertical-align: top;\n    }\n\n    .dataframe thead th {\n        text-align: right;\n    }\n</style>\n<table border=\"1\" class=\"dataframe\">\n  <thead>\n    <tr style=\"text-align: right;\">\n      <th></th>\n      <th>City_ID</th>\n      <th>City</th>\n      <th>Country</th>\n      <th>Date</th>\n      <th>Lat</th>\n      <th>Lng</th>\n      <th>Max Temp</th>\n      <th>Humidity</th>\n      <th>Cloudiness</th>\n      <th>Wind Speed</th>\n    </tr>\n  </thead>\n  <tbody>\n    <tr>\n      <th>0</th>\n      <td>0</td>\n      <td>Albany</td>\n      <td>US</td>\n      <td>2021-06-06 16:46:21</td>\n      <td>42.6001</td>\n      <td>-73.9662</td>\n      <td>90.09</td>\n      <td>45</td>\n      <td>58</td>\n      <td>1.01</td>\n    </tr>\n    <tr>\n      <th>1</th>\n      <td>1</td>\n      <td>Yellowknife</td>\n      <td>CA</td>\n      <td>2021-06-06 16:50:41</td>\n      <td>62.4560</td>\n      <td>-114.3525</td>\n      <td>46.33</td>\n      <td>65</td>\n      <td>75</td>\n      <td>5.99</td>\n    </tr>\n    <tr>\n      <th>2</th>\n      <td>2</td>\n      <td>Ribeira Grande</td>\n      <td>PT</td>\n      <td>2021-06-06 16:50:41</td>\n      <td>38.5167</td>\n      <td>-28.7000</td>\n      <td>70.20</td>\n      <td>83</td>\n      <td>40</td>\n      <td>12.66</td>\n    </tr>\n    <tr>\n      <th>3</th>\n      <td>3</td>\n      <td>Nikolskoye</td>\n      <td>RU</td>\n      <td>2021-06-06 16:50:41</td>\n      <td>59.7035</td>\n      <td>30.7861</td>\n      <td>71.49</td>\n      <td>56</td>\n      <td>12</td>\n      <td>5.44</td>\n    </tr>\n    <tr>\n      <th>4</th>\n      <td>4</td>\n      <td>Bluff</td>\n      <td>NZ</td>\n      <td>2021-06-06 16:50:09</td>\n      <td>-46.6000</td>\n      <td>168.3333</td>\n      <td>46.18</td>\n      <td>84</td>\n      <td>57</td>\n      <td>6.87</td>\n    </tr>\n  </tbody>\n</table>\n</div>"
     },
     "metadata": {},
     "execution_count": 2
    }
   ],
   "source": [
    "# Store the CSV you saved created in part one into a DataFrame.\n",
    "city_data_df = pd.read_csv(\"weather_data/cities.csv\")\n",
    "city_data_df.head()"
   ]
  },
  {
   "cell_type": "code",
   "execution_count": 3,
   "metadata": {},
   "outputs": [],
   "source": [
    "# Configure gmaps to use your Google API key.\n",
    "gmaps.configure(api_key=g_key)"
   ]
  },
  {
   "cell_type": "code",
   "execution_count": 5,
   "metadata": {},
   "outputs": [],
   "source": [
    "# Get the maximum temperature.\n",
    "max_temp = city_data_df[\"Max Temp\"]\n",
    "temps = []\n",
    "for temp in max_temp:\n",
    "    temps.append(max(temp, 0))"
   ]
  },
  {
   "cell_type": "code",
   "execution_count": 8,
   "metadata": {},
   "outputs": [
    {
     "output_type": "display_data",
     "data": {
      "text/plain": "Figure(layout=FigureLayout(height='420px'))",
      "application/vnd.jupyter.widget-view+json": {
       "version_major": 2,
       "version_minor": 0,
       "model_id": "cb881fcee4ae492c9a0b48da38db4988"
      }
     },
     "metadata": {}
    }
   ],
   "source": [
    "# Heatmap of temperature\n",
    "# Get the latitude and longitude.\n",
    "locations = city_data_df[[\"Lat\", \"Lng\"]]\n",
    "# Get the maximum temperature.\n",
    "max_temp = city_data_df[\"Max Temp\"]\n",
    "# Assign the figure variable.\n",
    "fig = gmaps.figure()\n",
    "# Assign the heatmap variable.\n",
    "heat_layer = gmaps.heatmap_layer(locations, weights=temps, dissipating=False, max_intensity=300, point_radius=4)\n",
    "# Add the heatmap layer.\n",
    "fig.add_layer(heat_layer)\n",
    "# Call the figure to plot the data.\n",
    "fig"
   ]
  },
  {
   "cell_type": "code",
   "execution_count": 9,
   "metadata": {},
   "outputs": [
    {
     "output_type": "display_data",
     "data": {
      "text/plain": "Figure(layout=FigureLayout(height='420px'))",
      "application/vnd.jupyter.widget-view+json": {
       "version_major": 2,
       "version_minor": 0,
       "model_id": "6f90678a2bd947609844277bae65f144"
      }
     },
     "metadata": {}
    }
   ],
   "source": [
    "# Heatmap of percent humidity\n",
    "locations = city_data_df[[\"Lat\", \"Lng\"]]\n",
    "humidity = city_data_df[\"Humidity\"]\n",
    "fig = gmaps.figure(center=(30.0, 31.0), zoom_level=1.5)\n",
    "heat_layer = gmaps.heatmap_layer(locations, weights=humidity, dissipating=False, max_intensity=300, point_radius=4)\n",
    "\n",
    "fig.add_layer(heat_layer)\n",
    "# Call the figure to plot the data.\n",
    "fig"
   ]
  },
  {
   "cell_type": "code",
   "execution_count": 10,
   "metadata": {},
   "outputs": [
    {
     "output_type": "display_data",
     "data": {
      "text/plain": "Figure(layout=FigureLayout(height='420px'))",
      "application/vnd.jupyter.widget-view+json": {
       "version_major": 2,
       "version_minor": 0,
       "model_id": "1856bd2cb65641398ed46452625dfb1f"
      }
     },
     "metadata": {}
    }
   ],
   "source": [
    "# Heatmap of percent cloudiness\n",
    "locations = city_data_df[[\"Lat\", \"Lng\"]]\n",
    "clouds = city_data_df[\"Cloudiness\"]\n",
    "fig = gmaps.figure(center=(30.0, 31.0), zoom_level=1.5)\n",
    "heat_layer = gmaps.heatmap_layer(locations, weights=clouds, dissipating=False, max_intensity=300, point_radius=4)\n",
    "\n",
    "fig.add_layer(heat_layer)\n",
    "# Call the figure to plot the data.\n",
    "fig"
   ]
  },
  {
   "cell_type": "code",
   "execution_count": 11,
   "metadata": {},
   "outputs": [
    {
     "output_type": "display_data",
     "data": {
      "text/plain": "Figure(layout=FigureLayout(height='420px'))",
      "application/vnd.jupyter.widget-view+json": {
       "version_major": 2,
       "version_minor": 0,
       "model_id": "e671b766123d4dacbecbb34599f7389a"
      }
     },
     "metadata": {}
    }
   ],
   "source": [
    "# Heatmap of wind speed\n",
    "locations = city_data_df[[\"Lat\", \"Lng\"]]\n",
    "wind = city_data_df[\"Wind Speed\"]\n",
    "fig = gmaps.figure(center=(30.0, 31.0), zoom_level=1.5)\n",
    "heat_layer = gmaps.heatmap_layer(locations, weights=wind, dissipating=False, max_intensity=300, point_radius=4)\n",
    "\n",
    "fig.add_layer(heat_layer)\n",
    "# Call the figure to plot the data.\n",
    "fig"
   ]
  },
  {
   "cell_type": "code",
   "execution_count": 12,
   "metadata": {},
   "outputs": [],
   "source": [
    "# Ask the customer to add a minimum and maximum temperature value.\n",
    "min_temp = float(input(\"What is the minimum temperature you would like for your trip? \"))\n",
    "max_temp = float(input(\"What is the maximum temperature you would like for your trip? \"))"
   ]
  },
  {
   "cell_type": "code",
   "execution_count": 15,
   "metadata": {},
   "outputs": [
    {
     "output_type": "execute_result",
     "data": {
      "text/plain": [
       "    City_ID          City Country                 Date      Lat       Lng  \\\n",
       "5         5     El Dorado      US  2021-06-06 16:50:42  38.7666 -120.5177   \n",
       "6         6     San-Pedro      CI  2021-06-06 16:50:42   4.7485   -6.6363   \n",
       "9         9     Pontianak      ID  2021-06-06 16:46:44  -0.0333  109.3333   \n",
       "11       11     Nishihara      JP  2021-06-06 16:50:44  26.1842  127.7558   \n",
       "13       13       Pa Sang      TH  2021-06-06 16:50:45  18.5262   98.9394   \n",
       "20       20       Rikitea      PF  2021-06-06 16:50:46 -23.1203 -134.9692   \n",
       "23       23          Sibu      MY  2021-06-06 16:50:47   2.3000  111.8167   \n",
       "25       25       Manaure      CO  2021-06-06 16:50:48  11.7751  -72.4445   \n",
       "40       40     Kavaratti      IN  2021-06-06 16:50:53  10.5669   72.6420   \n",
       "43       43  Puerto Ayora      EC  2021-06-06 16:50:54  -0.7393  -90.3518   \n",
       "\n",
       "    Max Temp  Humidity  Cloudiness  Wind Speed  \n",
       "5      85.12        36           8        1.99  \n",
       "6      82.38        74          50        8.12  \n",
       "9      75.18       100          75        3.40  \n",
       "11     78.85        91          90        5.01  \n",
       "13     79.00        84          86        3.00  \n",
       "20     76.46        83          97       14.00  \n",
       "23     75.51       100          40        1.99  \n",
       "25     86.38        60         100       17.98  \n",
       "40     82.94        75         100       10.40  \n",
       "43     80.56        84          27        5.99  "
      ],
      "text/html": "<div>\n<style scoped>\n    .dataframe tbody tr th:only-of-type {\n        vertical-align: middle;\n    }\n\n    .dataframe tbody tr th {\n        vertical-align: top;\n    }\n\n    .dataframe thead th {\n        text-align: right;\n    }\n</style>\n<table border=\"1\" class=\"dataframe\">\n  <thead>\n    <tr style=\"text-align: right;\">\n      <th></th>\n      <th>City_ID</th>\n      <th>City</th>\n      <th>Country</th>\n      <th>Date</th>\n      <th>Lat</th>\n      <th>Lng</th>\n      <th>Max Temp</th>\n      <th>Humidity</th>\n      <th>Cloudiness</th>\n      <th>Wind Speed</th>\n    </tr>\n  </thead>\n  <tbody>\n    <tr>\n      <th>5</th>\n      <td>5</td>\n      <td>El Dorado</td>\n      <td>US</td>\n      <td>2021-06-06 16:50:42</td>\n      <td>38.7666</td>\n      <td>-120.5177</td>\n      <td>85.12</td>\n      <td>36</td>\n      <td>8</td>\n      <td>1.99</td>\n    </tr>\n    <tr>\n      <th>6</th>\n      <td>6</td>\n      <td>San-Pedro</td>\n      <td>CI</td>\n      <td>2021-06-06 16:50:42</td>\n      <td>4.7485</td>\n      <td>-6.6363</td>\n      <td>82.38</td>\n      <td>74</td>\n      <td>50</td>\n      <td>8.12</td>\n    </tr>\n    <tr>\n      <th>9</th>\n      <td>9</td>\n      <td>Pontianak</td>\n      <td>ID</td>\n      <td>2021-06-06 16:46:44</td>\n      <td>-0.0333</td>\n      <td>109.3333</td>\n      <td>75.18</td>\n      <td>100</td>\n      <td>75</td>\n      <td>3.40</td>\n    </tr>\n    <tr>\n      <th>11</th>\n      <td>11</td>\n      <td>Nishihara</td>\n      <td>JP</td>\n      <td>2021-06-06 16:50:44</td>\n      <td>26.1842</td>\n      <td>127.7558</td>\n      <td>78.85</td>\n      <td>91</td>\n      <td>90</td>\n      <td>5.01</td>\n    </tr>\n    <tr>\n      <th>13</th>\n      <td>13</td>\n      <td>Pa Sang</td>\n      <td>TH</td>\n      <td>2021-06-06 16:50:45</td>\n      <td>18.5262</td>\n      <td>98.9394</td>\n      <td>79.00</td>\n      <td>84</td>\n      <td>86</td>\n      <td>3.00</td>\n    </tr>\n    <tr>\n      <th>20</th>\n      <td>20</td>\n      <td>Rikitea</td>\n      <td>PF</td>\n      <td>2021-06-06 16:50:46</td>\n      <td>-23.1203</td>\n      <td>-134.9692</td>\n      <td>76.46</td>\n      <td>83</td>\n      <td>97</td>\n      <td>14.00</td>\n    </tr>\n    <tr>\n      <th>23</th>\n      <td>23</td>\n      <td>Sibu</td>\n      <td>MY</td>\n      <td>2021-06-06 16:50:47</td>\n      <td>2.3000</td>\n      <td>111.8167</td>\n      <td>75.51</td>\n      <td>100</td>\n      <td>40</td>\n      <td>1.99</td>\n    </tr>\n    <tr>\n      <th>25</th>\n      <td>25</td>\n      <td>Manaure</td>\n      <td>CO</td>\n      <td>2021-06-06 16:50:48</td>\n      <td>11.7751</td>\n      <td>-72.4445</td>\n      <td>86.38</td>\n      <td>60</td>\n      <td>100</td>\n      <td>17.98</td>\n    </tr>\n    <tr>\n      <th>40</th>\n      <td>40</td>\n      <td>Kavaratti</td>\n      <td>IN</td>\n      <td>2021-06-06 16:50:53</td>\n      <td>10.5669</td>\n      <td>72.6420</td>\n      <td>82.94</td>\n      <td>75</td>\n      <td>100</td>\n      <td>10.40</td>\n    </tr>\n    <tr>\n      <th>43</th>\n      <td>43</td>\n      <td>Puerto Ayora</td>\n      <td>EC</td>\n      <td>2021-06-06 16:50:54</td>\n      <td>-0.7393</td>\n      <td>-90.3518</td>\n      <td>80.56</td>\n      <td>84</td>\n      <td>27</td>\n      <td>5.99</td>\n    </tr>\n  </tbody>\n</table>\n</div>"
     },
     "metadata": {},
     "execution_count": 15
    }
   ],
   "source": [
    "# Filter the dataset to find the cities that fit the criteria.\n",
    "preferred_cities_df = city_data_df.loc[(city_data_df[\"Max Temp\"] <= max_temp) & (city_data_df[\"Max Temp\"] >= min_temp)]\n",
    "preferred_cities_df.head(10)"
   ]
  },
  {
   "cell_type": "code",
   "execution_count": 16,
   "metadata": {},
   "outputs": [
    {
     "output_type": "execute_result",
     "data": {
      "text/plain": [
       "City_ID       191\n",
       "City          191\n",
       "Country       190\n",
       "Date          191\n",
       "Lat           191\n",
       "Lng           191\n",
       "Max Temp      191\n",
       "Humidity      191\n",
       "Cloudiness    191\n",
       "Wind Speed    191\n",
       "dtype: int64"
      ]
     },
     "metadata": {},
     "execution_count": 16
    }
   ],
   "source": [
    "preferred_cities_df.count()"
   ]
  },
  {
   "cell_type": "code",
   "execution_count": 17,
   "metadata": {},
   "outputs": [
    {
     "output_type": "execute_result",
     "data": {
      "text/plain": [
       "            City Country  Max Temp      Lat       Lng Hotel Name\n",
       "5      El Dorado      US     85.12  38.7666 -120.5177           \n",
       "6      San-Pedro      CI     82.38   4.7485   -6.6363           \n",
       "9      Pontianak      ID     75.18  -0.0333  109.3333           \n",
       "11     Nishihara      JP     78.85  26.1842  127.7558           \n",
       "13       Pa Sang      TH     79.00  18.5262   98.9394           \n",
       "20       Rikitea      PF     76.46 -23.1203 -134.9692           \n",
       "23          Sibu      MY     75.51   2.3000  111.8167           \n",
       "25       Manaure      CO     86.38  11.7751  -72.4445           \n",
       "40     Kavaratti      IN     82.94  10.5669   72.6420           \n",
       "43  Puerto Ayora      EC     80.56  -0.7393  -90.3518           "
      ],
      "text/html": "<div>\n<style scoped>\n    .dataframe tbody tr th:only-of-type {\n        vertical-align: middle;\n    }\n\n    .dataframe tbody tr th {\n        vertical-align: top;\n    }\n\n    .dataframe thead th {\n        text-align: right;\n    }\n</style>\n<table border=\"1\" class=\"dataframe\">\n  <thead>\n    <tr style=\"text-align: right;\">\n      <th></th>\n      <th>City</th>\n      <th>Country</th>\n      <th>Max Temp</th>\n      <th>Lat</th>\n      <th>Lng</th>\n      <th>Hotel Name</th>\n    </tr>\n  </thead>\n  <tbody>\n    <tr>\n      <th>5</th>\n      <td>El Dorado</td>\n      <td>US</td>\n      <td>85.12</td>\n      <td>38.7666</td>\n      <td>-120.5177</td>\n      <td></td>\n    </tr>\n    <tr>\n      <th>6</th>\n      <td>San-Pedro</td>\n      <td>CI</td>\n      <td>82.38</td>\n      <td>4.7485</td>\n      <td>-6.6363</td>\n      <td></td>\n    </tr>\n    <tr>\n      <th>9</th>\n      <td>Pontianak</td>\n      <td>ID</td>\n      <td>75.18</td>\n      <td>-0.0333</td>\n      <td>109.3333</td>\n      <td></td>\n    </tr>\n    <tr>\n      <th>11</th>\n      <td>Nishihara</td>\n      <td>JP</td>\n      <td>78.85</td>\n      <td>26.1842</td>\n      <td>127.7558</td>\n      <td></td>\n    </tr>\n    <tr>\n      <th>13</th>\n      <td>Pa Sang</td>\n      <td>TH</td>\n      <td>79.00</td>\n      <td>18.5262</td>\n      <td>98.9394</td>\n      <td></td>\n    </tr>\n    <tr>\n      <th>20</th>\n      <td>Rikitea</td>\n      <td>PF</td>\n      <td>76.46</td>\n      <td>-23.1203</td>\n      <td>-134.9692</td>\n      <td></td>\n    </tr>\n    <tr>\n      <th>23</th>\n      <td>Sibu</td>\n      <td>MY</td>\n      <td>75.51</td>\n      <td>2.3000</td>\n      <td>111.8167</td>\n      <td></td>\n    </tr>\n    <tr>\n      <th>25</th>\n      <td>Manaure</td>\n      <td>CO</td>\n      <td>86.38</td>\n      <td>11.7751</td>\n      <td>-72.4445</td>\n      <td></td>\n    </tr>\n    <tr>\n      <th>40</th>\n      <td>Kavaratti</td>\n      <td>IN</td>\n      <td>82.94</td>\n      <td>10.5669</td>\n      <td>72.6420</td>\n      <td></td>\n    </tr>\n    <tr>\n      <th>43</th>\n      <td>Puerto Ayora</td>\n      <td>EC</td>\n      <td>80.56</td>\n      <td>-0.7393</td>\n      <td>-90.3518</td>\n      <td></td>\n    </tr>\n  </tbody>\n</table>\n</div>"
     },
     "metadata": {},
     "execution_count": 17
    }
   ],
   "source": [
    "# Create DataFrame called hotel_df to store hotel names along with city, country, max temp, and coordinates.\n",
    "hotel_df = preferred_cities_df[[\"City\", \"Country\", \"Max Temp\", \"Lat\", \"Lng\"]].copy()\n",
    "hotel_df[\"Hotel Name\"] = \"\"\n",
    "hotel_df.head(10)"
   ]
  },
  {
   "cell_type": "code",
   "execution_count": 18,
   "metadata": {},
   "outputs": [],
   "source": [
    "# Set parameters to search for a hotel.\n",
    "params = {\n",
    "    \"radius\": 5000,\n",
    "    \"type\": \"lodging\",\n",
    "    \"key\": g_key\n",
    "}"
   ]
  },
  {
   "cell_type": "code",
   "execution_count": 19,
   "metadata": {},
   "outputs": [
    {
     "output_type": "stream",
     "name": "stdout",
     "text": [
      "Hotel not found... skipping.\n",
      "Hotel not found... skipping.\n",
      "Hotel not found... skipping.\n",
      "Hotel not found... skipping.\n",
      "Hotel not found... skipping.\n",
      "Hotel not found... skipping.\n",
      "Hotel not found... skipping.\n",
      "Hotel not found... skipping.\n",
      "Hotel not found... skipping.\n",
      "Hotel not found... skipping.\n",
      "Hotel not found... skipping.\n"
     ]
    }
   ],
   "source": [
    "# Iterate through the DataFrame.\n",
    "for index, row in hotel_df.iterrows():\n",
    "    # Get the latitude and longitude.\n",
    "    lat = row[\"Lat\"]\n",
    "    lng = row[\"Lng\"]\n",
    "\n",
    "    # Add the latitude and longitude to location key for the params dictionary.\n",
    "    params[\"location\"] = f\"{lat},{lng}\"\n",
    "\n",
    "    # Use the search term: \"lodging\" and our latitude and longitude.\n",
    "    base_url = \"https://maps.googleapis.com/maps/api/place/nearbysearch/json\"\n",
    "    # Make request and get the JSON data from the search.\n",
    "    hotels = requests.get(base_url, params=params).json()\n",
    "    # Grab the first hotel from the results and store the name.\n",
    "    try:\n",
    "        hotel_df.loc[index, \"Hotel Name\"] = hotels[\"results\"][0][\"name\"]\n",
    "    except (IndexError):\n",
    "        print(\"Hotel not found... skipping.\")"
   ]
  },
  {
   "cell_type": "code",
   "execution_count": 23,
   "metadata": {},
   "outputs": [],
   "source": [
    "info_box_template = \"\"\"\n",
    "<dl>\n",
    "<dt>Hotel Name</dt><dd>{Hotel Name}</dd>\n",
    "<dt>City</dt><dd>{City}</dd>\n",
    "<dt>Country</dt><dd>{Country}</dd>\n",
    "<dt>Max Temp</dt><dd>{Max Temp} °F</dd>\n",
    "</dl>\n",
    "\"\"\"\n",
    "# Store the DataFrame Row.\n",
    "hotel_info = [info_box_template.format(**row) for index, row in hotel_df.iterrows()]\n"
   ]
  },
  {
   "cell_type": "code",
   "execution_count": 24,
   "metadata": {},
   "outputs": [
    {
     "output_type": "display_data",
     "data": {
      "text/plain": "Figure(layout=FigureLayout(height='420px'))",
      "application/vnd.jupyter.widget-view+json": {
       "version_major": 2,
       "version_minor": 0,
       "model_id": "184aa575f66a49f095ba064da2880e81"
      }
     },
     "metadata": {}
    }
   ],
   "source": [
    "# Add a heatmap of temperature for the vacation spots and a pop-up marker for each city.\n",
    "locations = hotel_df[[\"Lat\", \"Lng\"]]\n",
    "max_temp = hotel_df[\"Max Temp\"]\n",
    "fig = gmaps.figure(center=(30.0, 31.0), zoom_level=1.5)\n",
    "heat_layer = gmaps.heatmap_layer(locations, weights=max_temp,dissipating=False,\n",
    "             max_intensity=300, point_radius=4)\n",
    "marker_layer = gmaps.marker_layer(locations, info_box_content=hotel_info)\n",
    "fig.add_layer(heat_layer)\n",
    "fig.add_layer(marker_layer)\n",
    "\n",
    "# Call the figure to plot the data.\n",
    "fig"
   ]
  },
  {
   "cell_type": "code",
   "execution_count": null,
   "metadata": {},
   "outputs": [],
   "source": []
  }
 ]
}