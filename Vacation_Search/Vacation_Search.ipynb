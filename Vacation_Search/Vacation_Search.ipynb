{
 "cells": [
  {
   "cell_type": "markdown",
   "metadata": {},
   "source": [
    "## Deliverable 2. Create a Customer Travel Destinations Map."
   ]
  },
  {
   "cell_type": "code",
   "execution_count": 1,
   "metadata": {},
   "outputs": [],
   "source": [
    "# Dependencies and Setup\n",
    "import pandas as pd\n",
    "import requests\n",
    "import gmaps\n",
    "\n",
    "# Import API key\n",
    "from config import g_key\n",
    "\n",
    "# Configure gmaps API key\n",
    "gmaps.configure(api_key=g_key)"
   ]
  },
  {
   "cell_type": "code",
   "execution_count": 2,
   "metadata": {},
   "outputs": [
    {
     "output_type": "execute_result",
     "data": {
      "text/plain": [
       "   City_ID      City Country      Lat       Lng  Max Temp  Humidity  \\\n",
       "0        0    Jieshi      CN  22.8134  115.8257     76.57        84   \n",
       "1        1  Tasiilaq      GL  65.6145  -37.6368     41.16        91   \n",
       "2        2    Albany      US  42.6001  -73.9662     90.25        51   \n",
       "3        3   Rikitea      PF -23.1203 -134.9692     76.64        84   \n",
       "4        4    Namibe      AO -15.1961   12.1522     74.07        54   \n",
       "\n",
       "   Cloudiness  Wind Speed       Description  \n",
       "0          18       16.62        few clouds  \n",
       "1          98        5.12   overcast clouds  \n",
       "2          45        1.99  scattered clouds  \n",
       "3          98       15.88   overcast clouds  \n",
       "4          50        8.39  scattered clouds  "
      ],
      "text/html": "<div>\n<style scoped>\n    .dataframe tbody tr th:only-of-type {\n        vertical-align: middle;\n    }\n\n    .dataframe tbody tr th {\n        vertical-align: top;\n    }\n\n    .dataframe thead th {\n        text-align: right;\n    }\n</style>\n<table border=\"1\" class=\"dataframe\">\n  <thead>\n    <tr style=\"text-align: right;\">\n      <th></th>\n      <th>City_ID</th>\n      <th>City</th>\n      <th>Country</th>\n      <th>Lat</th>\n      <th>Lng</th>\n      <th>Max Temp</th>\n      <th>Humidity</th>\n      <th>Cloudiness</th>\n      <th>Wind Speed</th>\n      <th>Description</th>\n    </tr>\n  </thead>\n  <tbody>\n    <tr>\n      <th>0</th>\n      <td>0</td>\n      <td>Jieshi</td>\n      <td>CN</td>\n      <td>22.8134</td>\n      <td>115.8257</td>\n      <td>76.57</td>\n      <td>84</td>\n      <td>18</td>\n      <td>16.62</td>\n      <td>few clouds</td>\n    </tr>\n    <tr>\n      <th>1</th>\n      <td>1</td>\n      <td>Tasiilaq</td>\n      <td>GL</td>\n      <td>65.6145</td>\n      <td>-37.6368</td>\n      <td>41.16</td>\n      <td>91</td>\n      <td>98</td>\n      <td>5.12</td>\n      <td>overcast clouds</td>\n    </tr>\n    <tr>\n      <th>2</th>\n      <td>2</td>\n      <td>Albany</td>\n      <td>US</td>\n      <td>42.6001</td>\n      <td>-73.9662</td>\n      <td>90.25</td>\n      <td>51</td>\n      <td>45</td>\n      <td>1.99</td>\n      <td>scattered clouds</td>\n    </tr>\n    <tr>\n      <th>3</th>\n      <td>3</td>\n      <td>Rikitea</td>\n      <td>PF</td>\n      <td>-23.1203</td>\n      <td>-134.9692</td>\n      <td>76.64</td>\n      <td>84</td>\n      <td>98</td>\n      <td>15.88</td>\n      <td>overcast clouds</td>\n    </tr>\n    <tr>\n      <th>4</th>\n      <td>4</td>\n      <td>Namibe</td>\n      <td>AO</td>\n      <td>-15.1961</td>\n      <td>12.1522</td>\n      <td>74.07</td>\n      <td>54</td>\n      <td>50</td>\n      <td>8.39</td>\n      <td>scattered clouds</td>\n    </tr>\n  </tbody>\n</table>\n</div>"
     },
     "metadata": {},
     "execution_count": 2
    }
   ],
   "source": [
    "# 1. Import the WeatherPy_database.csv file. \n",
    "city_data_df = pd.read_csv(\"../Weather_Database/WeatherPy_database.csv\")\n",
    "city_data_df.head()"
   ]
  },
  {
   "cell_type": "code",
   "execution_count": 3,
   "metadata": {},
   "outputs": [],
   "source": [
    "# 2. Prompt the user to enter minimum and maximum temperature criteria \n",
    "min_temp = float(input(\"What is the minimum temperature you would like for your trip? \"))\n",
    "max_temp = float(input(\"What is the maximum temperature you would like for your trip? \"))"
   ]
  },
  {
   "cell_type": "code",
   "execution_count": 4,
   "metadata": {},
   "outputs": [
    {
     "output_type": "execute_result",
     "data": {
      "text/plain": [
       "    City_ID          City Country      Lat       Lng  Max Temp  Humidity  \\\n",
       "0         0        Jieshi      CN  22.8134  115.8257     76.57        84   \n",
       "3         3       Rikitea      PF -23.1203 -134.9692     76.64        84   \n",
       "7         7         Kapaa      US  22.0752 -159.3190     82.72        71   \n",
       "8         8        Mizdah      LY  31.4451   12.9801     78.93        21   \n",
       "14       14  Puerto Ayora      EC  -0.7393  -90.3518     80.56        89   \n",
       "20       20     Massillon      US  40.7967  -81.5215     87.37        56   \n",
       "21       21        Atuona      PF  -9.8000 -139.0333     79.93        64   \n",
       "22       22       Cozumel      MX  20.5083  -86.9458     87.87        62   \n",
       "25       25     Bom Jesus      BR  -9.0744  -44.3586     80.53        35   \n",
       "42       42      Dong Hoi      VN  17.4833  106.6000     82.38        74   \n",
       "\n",
       "    Cloudiness  Wind Speed       Description  \n",
       "0           18       16.62        few clouds  \n",
       "3           98       15.88   overcast clouds  \n",
       "7           40        5.01  scattered clouds  \n",
       "8           10       11.56         clear sky  \n",
       "14          35        5.99  scattered clouds  \n",
       "20          40        1.01  scattered clouds  \n",
       "21          63        6.69     broken clouds  \n",
       "22          75        9.22     broken clouds  \n",
       "25         100        5.91   overcast clouds  \n",
       "42         100        6.67   overcast clouds  "
      ],
      "text/html": "<div>\n<style scoped>\n    .dataframe tbody tr th:only-of-type {\n        vertical-align: middle;\n    }\n\n    .dataframe tbody tr th {\n        vertical-align: top;\n    }\n\n    .dataframe thead th {\n        text-align: right;\n    }\n</style>\n<table border=\"1\" class=\"dataframe\">\n  <thead>\n    <tr style=\"text-align: right;\">\n      <th></th>\n      <th>City_ID</th>\n      <th>City</th>\n      <th>Country</th>\n      <th>Lat</th>\n      <th>Lng</th>\n      <th>Max Temp</th>\n      <th>Humidity</th>\n      <th>Cloudiness</th>\n      <th>Wind Speed</th>\n      <th>Description</th>\n    </tr>\n  </thead>\n  <tbody>\n    <tr>\n      <th>0</th>\n      <td>0</td>\n      <td>Jieshi</td>\n      <td>CN</td>\n      <td>22.8134</td>\n      <td>115.8257</td>\n      <td>76.57</td>\n      <td>84</td>\n      <td>18</td>\n      <td>16.62</td>\n      <td>few clouds</td>\n    </tr>\n    <tr>\n      <th>3</th>\n      <td>3</td>\n      <td>Rikitea</td>\n      <td>PF</td>\n      <td>-23.1203</td>\n      <td>-134.9692</td>\n      <td>76.64</td>\n      <td>84</td>\n      <td>98</td>\n      <td>15.88</td>\n      <td>overcast clouds</td>\n    </tr>\n    <tr>\n      <th>7</th>\n      <td>7</td>\n      <td>Kapaa</td>\n      <td>US</td>\n      <td>22.0752</td>\n      <td>-159.3190</td>\n      <td>82.72</td>\n      <td>71</td>\n      <td>40</td>\n      <td>5.01</td>\n      <td>scattered clouds</td>\n    </tr>\n    <tr>\n      <th>8</th>\n      <td>8</td>\n      <td>Mizdah</td>\n      <td>LY</td>\n      <td>31.4451</td>\n      <td>12.9801</td>\n      <td>78.93</td>\n      <td>21</td>\n      <td>10</td>\n      <td>11.56</td>\n      <td>clear sky</td>\n    </tr>\n    <tr>\n      <th>14</th>\n      <td>14</td>\n      <td>Puerto Ayora</td>\n      <td>EC</td>\n      <td>-0.7393</td>\n      <td>-90.3518</td>\n      <td>80.56</td>\n      <td>89</td>\n      <td>35</td>\n      <td>5.99</td>\n      <td>scattered clouds</td>\n    </tr>\n    <tr>\n      <th>20</th>\n      <td>20</td>\n      <td>Massillon</td>\n      <td>US</td>\n      <td>40.7967</td>\n      <td>-81.5215</td>\n      <td>87.37</td>\n      <td>56</td>\n      <td>40</td>\n      <td>1.01</td>\n      <td>scattered clouds</td>\n    </tr>\n    <tr>\n      <th>21</th>\n      <td>21</td>\n      <td>Atuona</td>\n      <td>PF</td>\n      <td>-9.8000</td>\n      <td>-139.0333</td>\n      <td>79.93</td>\n      <td>64</td>\n      <td>63</td>\n      <td>6.69</td>\n      <td>broken clouds</td>\n    </tr>\n    <tr>\n      <th>22</th>\n      <td>22</td>\n      <td>Cozumel</td>\n      <td>MX</td>\n      <td>20.5083</td>\n      <td>-86.9458</td>\n      <td>87.87</td>\n      <td>62</td>\n      <td>75</td>\n      <td>9.22</td>\n      <td>broken clouds</td>\n    </tr>\n    <tr>\n      <th>25</th>\n      <td>25</td>\n      <td>Bom Jesus</td>\n      <td>BR</td>\n      <td>-9.0744</td>\n      <td>-44.3586</td>\n      <td>80.53</td>\n      <td>35</td>\n      <td>100</td>\n      <td>5.91</td>\n      <td>overcast clouds</td>\n    </tr>\n    <tr>\n      <th>42</th>\n      <td>42</td>\n      <td>Dong Hoi</td>\n      <td>VN</td>\n      <td>17.4833</td>\n      <td>106.6000</td>\n      <td>82.38</td>\n      <td>74</td>\n      <td>100</td>\n      <td>6.67</td>\n      <td>overcast clouds</td>\n    </tr>\n  </tbody>\n</table>\n</div>"
     },
     "metadata": {},
     "execution_count": 4
    }
   ],
   "source": [
    "# 3. Filter the city_data_df DataFrame using the input statements to create a new DataFrame using the loc method.\n",
    "preferred_cities_df = city_data_df.loc[(city_data_df[\"Max Temp\"] <= max_temp) & (city_data_df[\"Max Temp\"] >= min_temp)]\n",
    "preferred_cities_df.head(10)"
   ]
  },
  {
   "cell_type": "code",
   "execution_count": 5,
   "metadata": {},
   "outputs": [
    {
     "output_type": "execute_result",
     "data": {
      "text/plain": [
       "City_ID        223\n",
       "City           223\n",
       "Country        221\n",
       "Lat            223\n",
       "Lng            223\n",
       "Max Temp       223\n",
       "Humidity       223\n",
       "Cloudiness     223\n",
       "Wind Speed     223\n",
       "Description    223\n",
       "dtype: int64"
      ]
     },
     "metadata": {},
     "execution_count": 5
    }
   ],
   "source": [
    "# 4a. Determine if there are any empty rows.\n",
    "preferred_cities_df.count()"
   ]
  },
  {
   "cell_type": "code",
   "execution_count": 6,
   "metadata": {},
   "outputs": [
    {
     "output_type": "execute_result",
     "data": {
      "text/plain": [
       "     City_ID          City Country      Lat       Lng  Max Temp  Humidity  \\\n",
       "0          0        Jieshi      CN  22.8134  115.8257     76.57        84   \n",
       "3          3       Rikitea      PF -23.1203 -134.9692     76.64        84   \n",
       "7          7         Kapaa      US  22.0752 -159.3190     82.72        71   \n",
       "8          8        Mizdah      LY  31.4451   12.9801     78.93        21   \n",
       "14        14  Puerto Ayora      EC  -0.7393  -90.3518     80.56        89   \n",
       "..       ...           ...     ...      ...       ...       ...       ...   \n",
       "666      666       Biltine      TD  14.5333   20.9167     89.65        17   \n",
       "670      670        Olinda      BR  -8.0089  -34.8553     78.53        69   \n",
       "679      679          Gizo      SB  -8.1030  156.8419     82.29        77   \n",
       "681      681      Matagami      CA  49.7502  -77.6328     84.31        39   \n",
       "684      684       Truckee      US  39.3280 -120.1833     83.55        30   \n",
       "\n",
       "     Cloudiness  Wind Speed       Description  \n",
       "0            18       16.62        few clouds  \n",
       "3            98       15.88   overcast clouds  \n",
       "7            40        5.01  scattered clouds  \n",
       "8            10       11.56         clear sky  \n",
       "14           35        5.99  scattered clouds  \n",
       "..          ...         ...               ...  \n",
       "666          80        3.74     broken clouds  \n",
       "670          40       11.56  scattered clouds  \n",
       "679          26        5.91  scattered clouds  \n",
       "681           1        9.46         clear sky  \n",
       "684           1       20.71         clear sky  \n",
       "\n",
       "[221 rows x 10 columns]"
      ],
      "text/html": "<div>\n<style scoped>\n    .dataframe tbody tr th:only-of-type {\n        vertical-align: middle;\n    }\n\n    .dataframe tbody tr th {\n        vertical-align: top;\n    }\n\n    .dataframe thead th {\n        text-align: right;\n    }\n</style>\n<table border=\"1\" class=\"dataframe\">\n  <thead>\n    <tr style=\"text-align: right;\">\n      <th></th>\n      <th>City_ID</th>\n      <th>City</th>\n      <th>Country</th>\n      <th>Lat</th>\n      <th>Lng</th>\n      <th>Max Temp</th>\n      <th>Humidity</th>\n      <th>Cloudiness</th>\n      <th>Wind Speed</th>\n      <th>Description</th>\n    </tr>\n  </thead>\n  <tbody>\n    <tr>\n      <th>0</th>\n      <td>0</td>\n      <td>Jieshi</td>\n      <td>CN</td>\n      <td>22.8134</td>\n      <td>115.8257</td>\n      <td>76.57</td>\n      <td>84</td>\n      <td>18</td>\n      <td>16.62</td>\n      <td>few clouds</td>\n    </tr>\n    <tr>\n      <th>3</th>\n      <td>3</td>\n      <td>Rikitea</td>\n      <td>PF</td>\n      <td>-23.1203</td>\n      <td>-134.9692</td>\n      <td>76.64</td>\n      <td>84</td>\n      <td>98</td>\n      <td>15.88</td>\n      <td>overcast clouds</td>\n    </tr>\n    <tr>\n      <th>7</th>\n      <td>7</td>\n      <td>Kapaa</td>\n      <td>US</td>\n      <td>22.0752</td>\n      <td>-159.3190</td>\n      <td>82.72</td>\n      <td>71</td>\n      <td>40</td>\n      <td>5.01</td>\n      <td>scattered clouds</td>\n    </tr>\n    <tr>\n      <th>8</th>\n      <td>8</td>\n      <td>Mizdah</td>\n      <td>LY</td>\n      <td>31.4451</td>\n      <td>12.9801</td>\n      <td>78.93</td>\n      <td>21</td>\n      <td>10</td>\n      <td>11.56</td>\n      <td>clear sky</td>\n    </tr>\n    <tr>\n      <th>14</th>\n      <td>14</td>\n      <td>Puerto Ayora</td>\n      <td>EC</td>\n      <td>-0.7393</td>\n      <td>-90.3518</td>\n      <td>80.56</td>\n      <td>89</td>\n      <td>35</td>\n      <td>5.99</td>\n      <td>scattered clouds</td>\n    </tr>\n    <tr>\n      <th>...</th>\n      <td>...</td>\n      <td>...</td>\n      <td>...</td>\n      <td>...</td>\n      <td>...</td>\n      <td>...</td>\n      <td>...</td>\n      <td>...</td>\n      <td>...</td>\n      <td>...</td>\n    </tr>\n    <tr>\n      <th>666</th>\n      <td>666</td>\n      <td>Biltine</td>\n      <td>TD</td>\n      <td>14.5333</td>\n      <td>20.9167</td>\n      <td>89.65</td>\n      <td>17</td>\n      <td>80</td>\n      <td>3.74</td>\n      <td>broken clouds</td>\n    </tr>\n    <tr>\n      <th>670</th>\n      <td>670</td>\n      <td>Olinda</td>\n      <td>BR</td>\n      <td>-8.0089</td>\n      <td>-34.8553</td>\n      <td>78.53</td>\n      <td>69</td>\n      <td>40</td>\n      <td>11.56</td>\n      <td>scattered clouds</td>\n    </tr>\n    <tr>\n      <th>679</th>\n      <td>679</td>\n      <td>Gizo</td>\n      <td>SB</td>\n      <td>-8.1030</td>\n      <td>156.8419</td>\n      <td>82.29</td>\n      <td>77</td>\n      <td>26</td>\n      <td>5.91</td>\n      <td>scattered clouds</td>\n    </tr>\n    <tr>\n      <th>681</th>\n      <td>681</td>\n      <td>Matagami</td>\n      <td>CA</td>\n      <td>49.7502</td>\n      <td>-77.6328</td>\n      <td>84.31</td>\n      <td>39</td>\n      <td>1</td>\n      <td>9.46</td>\n      <td>clear sky</td>\n    </tr>\n    <tr>\n      <th>684</th>\n      <td>684</td>\n      <td>Truckee</td>\n      <td>US</td>\n      <td>39.3280</td>\n      <td>-120.1833</td>\n      <td>83.55</td>\n      <td>30</td>\n      <td>1</td>\n      <td>20.71</td>\n      <td>clear sky</td>\n    </tr>\n  </tbody>\n</table>\n<p>221 rows × 10 columns</p>\n</div>"
     },
     "metadata": {},
     "execution_count": 6
    }
   ],
   "source": [
    "# 4b. Drop any empty rows and create a new DataFrame that doesn’t have empty rows.\n",
    "preferred_cities_df.dropna()"
   ]
  },
  {
   "cell_type": "code",
   "execution_count": 10,
   "metadata": {},
   "outputs": [
    {
     "output_type": "execute_result",
     "data": {
      "text/plain": [
       "            City Country  Max Temp       Description      Lat       Lng  \\\n",
       "0         Jieshi      CN     76.57        few clouds  22.8134  115.8257   \n",
       "3        Rikitea      PF     76.64   overcast clouds -23.1203 -134.9692   \n",
       "7          Kapaa      US     82.72  scattered clouds  22.0752 -159.3190   \n",
       "8         Mizdah      LY     78.93         clear sky  31.4451   12.9801   \n",
       "14  Puerto Ayora      EC     80.56  scattered clouds  -0.7393  -90.3518   \n",
       "20     Massillon      US     87.37  scattered clouds  40.7967  -81.5215   \n",
       "21        Atuona      PF     79.93     broken clouds  -9.8000 -139.0333   \n",
       "22       Cozumel      MX     87.87     broken clouds  20.5083  -86.9458   \n",
       "25     Bom Jesus      BR     80.53   overcast clouds  -9.0744  -44.3586   \n",
       "42      Dong Hoi      VN     82.38   overcast clouds  17.4833  106.6000   \n",
       "\n",
       "   Hotel Name  \n",
       "0              \n",
       "3              \n",
       "7              \n",
       "8              \n",
       "14             \n",
       "20             \n",
       "21             \n",
       "22             \n",
       "25             \n",
       "42             "
      ],
      "text/html": "<div>\n<style scoped>\n    .dataframe tbody tr th:only-of-type {\n        vertical-align: middle;\n    }\n\n    .dataframe tbody tr th {\n        vertical-align: top;\n    }\n\n    .dataframe thead th {\n        text-align: right;\n    }\n</style>\n<table border=\"1\" class=\"dataframe\">\n  <thead>\n    <tr style=\"text-align: right;\">\n      <th></th>\n      <th>City</th>\n      <th>Country</th>\n      <th>Max Temp</th>\n      <th>Description</th>\n      <th>Lat</th>\n      <th>Lng</th>\n      <th>Hotel Name</th>\n    </tr>\n  </thead>\n  <tbody>\n    <tr>\n      <th>0</th>\n      <td>Jieshi</td>\n      <td>CN</td>\n      <td>76.57</td>\n      <td>few clouds</td>\n      <td>22.8134</td>\n      <td>115.8257</td>\n      <td></td>\n    </tr>\n    <tr>\n      <th>3</th>\n      <td>Rikitea</td>\n      <td>PF</td>\n      <td>76.64</td>\n      <td>overcast clouds</td>\n      <td>-23.1203</td>\n      <td>-134.9692</td>\n      <td></td>\n    </tr>\n    <tr>\n      <th>7</th>\n      <td>Kapaa</td>\n      <td>US</td>\n      <td>82.72</td>\n      <td>scattered clouds</td>\n      <td>22.0752</td>\n      <td>-159.3190</td>\n      <td></td>\n    </tr>\n    <tr>\n      <th>8</th>\n      <td>Mizdah</td>\n      <td>LY</td>\n      <td>78.93</td>\n      <td>clear sky</td>\n      <td>31.4451</td>\n      <td>12.9801</td>\n      <td></td>\n    </tr>\n    <tr>\n      <th>14</th>\n      <td>Puerto Ayora</td>\n      <td>EC</td>\n      <td>80.56</td>\n      <td>scattered clouds</td>\n      <td>-0.7393</td>\n      <td>-90.3518</td>\n      <td></td>\n    </tr>\n    <tr>\n      <th>20</th>\n      <td>Massillon</td>\n      <td>US</td>\n      <td>87.37</td>\n      <td>scattered clouds</td>\n      <td>40.7967</td>\n      <td>-81.5215</td>\n      <td></td>\n    </tr>\n    <tr>\n      <th>21</th>\n      <td>Atuona</td>\n      <td>PF</td>\n      <td>79.93</td>\n      <td>broken clouds</td>\n      <td>-9.8000</td>\n      <td>-139.0333</td>\n      <td></td>\n    </tr>\n    <tr>\n      <th>22</th>\n      <td>Cozumel</td>\n      <td>MX</td>\n      <td>87.87</td>\n      <td>broken clouds</td>\n      <td>20.5083</td>\n      <td>-86.9458</td>\n      <td></td>\n    </tr>\n    <tr>\n      <th>25</th>\n      <td>Bom Jesus</td>\n      <td>BR</td>\n      <td>80.53</td>\n      <td>overcast clouds</td>\n      <td>-9.0744</td>\n      <td>-44.3586</td>\n      <td></td>\n    </tr>\n    <tr>\n      <th>42</th>\n      <td>Dong Hoi</td>\n      <td>VN</td>\n      <td>82.38</td>\n      <td>overcast clouds</td>\n      <td>17.4833</td>\n      <td>106.6000</td>\n      <td></td>\n    </tr>\n  </tbody>\n</table>\n</div>"
     },
     "metadata": {},
     "execution_count": 10
    }
   ],
   "source": [
    "# 5a. Create DataFrame called hotel_df to store hotel names along with city, country, max temp, and coordinates.\n",
    "hotel_df = preferred_cities_df[[\"City\", \"Country\", \"Max Temp\", \"Description\", \"Lat\", \"Lng\"]].copy()\n",
    "\n",
    "# 5b. Create a new column \"Hotel Name\"\n",
    "hotel_df[\"Hotel Name\"] = \"\"\n",
    "hotel_df.head(10)"
   ]
  },
  {
   "cell_type": "code",
   "execution_count": 13,
   "metadata": {},
   "outputs": [
    {
     "output_type": "stream",
     "name": "stdout",
     "text": [
      "Hotel not found... skipping.\n",
      "Hotel not found... skipping.\n",
      "Hotel not found... skipping.\n",
      "Hotel not found... skipping.\n",
      "Hotel not found... skipping.\n",
      "Hotel not found... skipping.\n",
      "Hotel not found... skipping.\n",
      "Hotel not found... skipping.\n",
      "Hotel not found... skipping.\n",
      "Hotel not found... skipping.\n"
     ]
    }
   ],
   "source": [
    "# 6a. Set parameters to search for hotels with 5000 meters.\n",
    "params = {\n",
    "    \"radius\": 5000,\n",
    "    \"type\": \"lodging\",\n",
    "    \"key\": g_key\n",
    "}\n",
    "\n",
    "# 6b. Iterate through the hotel DataFrame.\n",
    "for index, row in hotel_df.iterrows():\n",
    "    # 6c. Get latitude and longitude from DataFrame\n",
    "    lat = row[\"Lat\"]\n",
    "    lng = row[\"Lng\"]\n",
    "    params[\"location\"] = f\"{lat},{lng}\"\n",
    "    # 6d. Set up the base URL for the Google Directions API to get JSON data.\n",
    "    base_url = \"https://maps.googleapis.com/maps/api/place/nearbysearch/json\"\n",
    "\n",
    "    # 6e. Make request and retrieve the JSON data from the search. \n",
    "    hotels = requests.get(base_url, params=params).json()\n",
    "    \n",
    "    # 6f. Get the first hotel from the results and store the name, if a hotel isn't found skip the city.\n",
    "    try:\n",
    "        hotel_df.loc[index, \"Hotel Name\"] = hotels[\"results\"][0][\"name\"]\n",
    "    except (IndexError):\n",
    "        print(\"Hotel not found... skipping.\")\n",
    "        "
   ]
  },
  {
   "cell_type": "code",
   "execution_count": 15,
   "metadata": {},
   "outputs": [],
   "source": [
    "# 7. Drop the rows where there is no Hotel Name.\n",
    "clean_hotel_df = hotel_df.dropna(subset=[\"Hotel Name\"])"
   ]
  },
  {
   "cell_type": "code",
   "execution_count": 17,
   "metadata": {},
   "outputs": [],
   "source": [
    "# 8a. Create the output File (CSV)\n",
    "output_data_file = \"WeatherPy_vacation.csv\" \n",
    "# 8b. Export the City_Data into a csv\n",
    "clean_hotel_df.to_csv(output_data_file, index_label=\"City_ID\")"
   ]
  },
  {
   "cell_type": "code",
   "execution_count": 18,
   "metadata": {},
   "outputs": [],
   "source": [
    "# 9. Using the template add city name, the country code, the weather description and maximum temperature for the city.\n",
    "info_box_template = \"\"\"\n",
    "<dl>\n",
    "<dt>City</dt><dd>{City}</dd>\n",
    "<dt>Country</dt><dd>{Country}</dd>\n",
    "<dt>Weather Description</dt><dd>{Description}</dd>\n",
    "<dt>Max Temp</dt><dd>{Max Temp} °F</dd>\n",
    "</dl>\n",
    "\"\"\"\n",
    "\n",
    "# 10a. Get the data from each row and add it to the formatting template and store the data in a list.\n",
    "hotel_info = [info_box_template.format(**row) for index, row in clean_hotel_df.iterrows()]\n",
    "\n",
    "# 10b. Get the latitude and longitude from each row and store in a new DataFrame.\n",
    "locations = clean_hotel_df[[\"Lat\", \"Lng\"]]"
   ]
  },
  {
   "cell_type": "code",
   "execution_count": 19,
   "metadata": {},
   "outputs": [
    {
     "output_type": "display_data",
     "data": {
      "text/plain": "Figure(layout=FigureLayout(height='420px'))",
      "application/vnd.jupyter.widget-view+json": {
       "version_major": 2,
       "version_minor": 0,
       "model_id": "f99ea339327c4cd2820e8e479ac001db"
      }
     },
     "metadata": {}
    }
   ],
   "source": [
    "# 11a. Add a marker layer for each city to the map. \n",
    "fig = gmaps.figure(center=(30.0, 31.0), zoom_level=1.5)\n",
    "marker_layer = gmaps.marker_layer(locations, info_box_content=hotel_info)\n",
    "fig.add_layer(marker_layer)\n",
    "\n",
    "# 11b. Display the figure\n",
    "fig"
   ]
  },
  {
   "cell_type": "code",
   "execution_count": null,
   "metadata": {},
   "outputs": [],
   "source": []
  },
  {
   "cell_type": "code",
   "execution_count": null,
   "metadata": {},
   "outputs": [],
   "source": []
  }
 ],
 "metadata": {
  "kernelspec": {
   "name": "python388jvsc74a57bd0bb7f1166f2d43a72f585e46dccf453a1e5bb567f7bad184a1f876cd41e2e6fe2",
   "display_name": "Python 3.8.8 64-bit ('base': conda)"
  },
  "language_info": {
   "codemirror_mode": {
    "name": "ipython",
    "version": 3
   },
   "file_extension": ".py",
   "mimetype": "text/x-python",
   "name": "python",
   "nbconvert_exporter": "python",
   "pygments_lexer": "ipython3",
   "version": "3.8.8"
  },
  "latex_envs": {
   "LaTeX_envs_menu_present": true,
   "autoclose": false,
   "autocomplete": true,
   "bibliofile": "biblio.bib",
   "cite_by": "apalike",
   "current_citInitial": 1,
   "eqLabelWithNumbers": true,
   "eqNumInitial": 1,
   "hotkeys": {
    "equation": "Ctrl-E",
    "itemize": "Ctrl-I"
   },
   "labels_anchors": false,
   "latex_user_defs": false,
   "report_style_numbering": false,
   "user_envs_cfg": false
  }
 },
 "nbformat": 4,
 "nbformat_minor": 2
}